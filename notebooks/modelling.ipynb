{
 "cells": [
  {
   "cell_type": "code",
   "execution_count": 1,
   "metadata": {},
   "outputs": [],
   "source": [
    "import pandas as pd\n",
    "import numpy as np\n",
    "from sklearn.model_selection import cross_val_score, ShuffleSplit, GridSearchCV\n",
    "from ngboost import NGBRegressor\n",
    "from ngboost.distns import LogNormal, Normal, Laplace\n",
    "import pickle\n",
    "from pathlib import Path"
   ]
  },
  {
   "cell_type": "code",
   "execution_count": 2,
   "metadata": {},
   "outputs": [],
   "source": [
    "df = pd.read_parquet(\"../data/processed.parquet\")"
   ]
  },
  {
   "cell_type": "code",
   "execution_count": 3,
   "metadata": {},
   "outputs": [],
   "source": [
    "X = df.drop(columns=\"Avg_Salary\").values\n",
    "y = df[\"Avg_Salary\"].values"
   ]
  },
  {
   "cell_type": "markdown",
   "metadata": {},
   "source": [
    "# Grid Search"
   ]
  },
  {
   "cell_type": "code",
   "execution_count": null,
   "metadata": {},
   "outputs": [],
   "source": [
    "grid_search_results = {\"NLL\":{}, \"neg_mean_absolute_error\":{}, \"neg_root_mean_squared_error\":{}}\n",
    "\n",
    "scoring_list = [None, \"neg_mean_absolute_error\", \"neg_root_mean_squared_error\"]\n",
    "Dist_list = [LogNormal, Normal, Laplace]\n",
    "param_grid = {\n",
    "    'n_estimators': [100, 500, 1000],\n",
    "    'minibatch_frac': [1.0, 0.5],\n",
    "    'learning_rate': [0.01, 0.001]\n",
    "}\n",
    "\n",
    "for scoring in scoring_list:\n",
    "    for Dist in Dist_list:\n",
    "        model = NGBRegressor(Dist=Dist)\n",
    "        grid_search = GridSearchCV(model, param_grid=param_grid, cv=5, scoring=scoring)\n",
    "        grid_search.fit(X, y)\n",
    "        \n",
    "        if scoring == None:\n",
    "            scoring_name = \"NLL\"\n",
    "        else:\n",
    "            scoring_name = scoring\n",
    "        \n",
    "        \n",
    "        grid_search_results[scoring_name][Dist.__name__] = grid_search"
   ]
  },
  {
   "cell_type": "code",
   "execution_count": null,
   "metadata": {},
   "outputs": [],
   "source": [
    "file_path = Path('../modelling/grid_search_results.p')\n",
    "\n",
    "with file_path.open('wb') as f:\n",
    "    pickle.dump(grid_search_results, f)"
   ]
  },
  {
   "cell_type": "markdown",
   "metadata": {},
   "source": [
    "# Load Results"
   ]
  },
  {
   "cell_type": "code",
   "execution_count": 4,
   "metadata": {},
   "outputs": [],
   "source": [
    "file_path = Path('../modelling/grid_search_results.p')\n",
    "\n",
    "with file_path.open('rb') as f:\n",
    "    grid_search_results = pickle.load(f)"
   ]
  },
  {
   "cell_type": "code",
   "execution_count": 5,
   "metadata": {},
   "outputs": [
    {
     "name": "stdout",
     "output_type": "stream",
     "text": [
      "LogNormal\n",
      "10.658685461093802\n",
      "Normal\n",
      "10.881231681674663\n",
      "Laplace\n",
      "10.756277133263866\n",
      "LogNormal\n",
      "-13774.311079061177\n",
      "Normal\n",
      "-13831.688355733266\n",
      "Laplace\n",
      "-13343.608439297106\n",
      "LogNormal\n",
      "-18325.26758814557\n",
      "Normal\n",
      "-18353.07010645815\n",
      "Laplace\n",
      "-19052.057543243056\n"
     ]
    }
   ],
   "source": [
    "scoring_list = [None, \"neg_mean_absolute_error\", \"neg_root_mean_squared_error\"]\n",
    "Dist_list = [LogNormal, Normal, Laplace]\n",
    "\n",
    "for scoring in scoring_list:\n",
    "    if scoring == None:\n",
    "            scoring_name = \"NLL\"\n",
    "    else:\n",
    "        scoring_name = scoring\n",
    "    for Dist in Dist_list:\n",
    "        print(Dist.__name__)\n",
    "        print(grid_search_results[scoring_name][Dist.__name__].cv_results_[\"mean_test_score\"].min())"
   ]
  },
  {
   "cell_type": "code",
   "execution_count": 6,
   "metadata": {},
   "outputs": [
    {
     "data": {
      "text/plain": [
       "{'mean_fit_time': array([ 3.64415517, 14.43752427, 30.32611027,  3.38296824, 12.93274274,\n",
       "        32.8774334 ,  2.90128026, 16.74485221, 41.19773874,  2.58764644,\n",
       "        12.81727567, 30.21188016]),\n",
       " 'std_fit_time': array([0.32482364, 0.20502714, 2.90501517, 0.80281969, 1.69234557,\n",
       "        3.97338475, 0.09691201, 2.20128068, 7.02000768, 0.56852741,\n",
       "        1.42673709, 1.91135071]),\n",
       " 'mean_score_time': array([0.12084584, 0.26000309, 0.5943841 , 0.18752708, 0.27832623,\n",
       "        0.94929776, 0.05956182, 0.28435802, 0.62656956, 0.06258545,\n",
       "        0.28628683, 1.01541176]),\n",
       " 'std_score_time': array([0.0708015 , 0.00385865, 0.13045965, 0.21624424, 0.01183601,\n",
       "        0.39243267, 0.00352493, 0.02794688, 0.0701569 , 0.00798313,\n",
       "        0.01115253, 0.55567136]),\n",
       " 'param_learning_rate': masked_array(data=[0.01, 0.01, 0.01, 0.01, 0.01, 0.01, 0.001, 0.001,\n",
       "                    0.001, 0.001, 0.001, 0.001],\n",
       "              mask=[False, False, False, False, False, False, False, False,\n",
       "                    False, False, False, False],\n",
       "        fill_value='?',\n",
       "             dtype=object),\n",
       " 'param_minibatch_frac': masked_array(data=[1.0, 1.0, 1.0, 0.5, 0.5, 0.5, 1.0, 1.0, 1.0, 0.5, 0.5,\n",
       "                    0.5],\n",
       "              mask=[False, False, False, False, False, False, False, False,\n",
       "                    False, False, False, False],\n",
       "        fill_value='?',\n",
       "             dtype=object),\n",
       " 'param_n_estimators': masked_array(data=[100, 500, 1000, 100, 500, 1000, 100, 500, 1000, 100,\n",
       "                    500, 1000],\n",
       "              mask=[False, False, False, False, False, False, False, False,\n",
       "                    False, False, False, False],\n",
       "        fill_value='?',\n",
       "             dtype=object),\n",
       " 'params': [{'learning_rate': 0.01,\n",
       "   'minibatch_frac': 1.0,\n",
       "   'n_estimators': 100},\n",
       "  {'learning_rate': 0.01, 'minibatch_frac': 1.0, 'n_estimators': 500},\n",
       "  {'learning_rate': 0.01, 'minibatch_frac': 1.0, 'n_estimators': 1000},\n",
       "  {'learning_rate': 0.01, 'minibatch_frac': 0.5, 'n_estimators': 100},\n",
       "  {'learning_rate': 0.01, 'minibatch_frac': 0.5, 'n_estimators': 500},\n",
       "  {'learning_rate': 0.01, 'minibatch_frac': 0.5, 'n_estimators': 1000},\n",
       "  {'learning_rate': 0.001, 'minibatch_frac': 1.0, 'n_estimators': 100},\n",
       "  {'learning_rate': 0.001, 'minibatch_frac': 1.0, 'n_estimators': 500},\n",
       "  {'learning_rate': 0.001, 'minibatch_frac': 1.0, 'n_estimators': 1000},\n",
       "  {'learning_rate': 0.001, 'minibatch_frac': 0.5, 'n_estimators': 100},\n",
       "  {'learning_rate': 0.001, 'minibatch_frac': 0.5, 'n_estimators': 500},\n",
       "  {'learning_rate': 0.001, 'minibatch_frac': 0.5, 'n_estimators': 1000}],\n",
       " 'split0_test_score': array([10.62327813, 10.41858431, 10.48292192, 10.62130755, 10.40405916,\n",
       "        10.40204484, 10.84396318, 10.72683065, 10.62165455, 10.84560055,\n",
       "        10.72587007, 10.62214794]),\n",
       " 'split1_test_score': array([10.72393811, 10.56690955, 10.61784322, 10.72077794, 10.55275138,\n",
       "        10.57488553, 10.92351052, 10.81172594, 10.72568883, 10.92443053,\n",
       "        10.81029755, 10.71779713]),\n",
       " 'split2_test_score': array([10.92396192, 10.8235956 , 10.87318043, 10.9219433 , 10.81761393,\n",
       "        10.83919426, 11.0898239 , 10.9970039 , 10.92665373, 11.09079606,\n",
       "        10.99635297, 10.92492748]),\n",
       " 'split3_test_score': array([10.91736625, 10.76017421, 10.76275048, 10.9151583 , 10.7497195 ,\n",
       "        10.74918159, 11.09936975, 11.00233055, 10.92111203, 11.09936972,\n",
       "        11.00109701, 10.91654782]),\n",
       " 'split4_test_score': array([10.87902375, 10.77343316, 10.81515081, 10.87199473, 10.76928334,\n",
       "        10.817866  , 11.03379655, 10.94654709, 10.88106754, 11.0325506 ,\n",
       "        10.94245721, 10.87226851]),\n",
       " 'mean_test_score': array([10.81351363, 10.66853936, 10.71036937, 10.81023636, 10.65868546,\n",
       "        10.67663444, 10.99809278, 10.89688762, 10.81523534, 10.99854949,\n",
       "        10.89521496, 10.81073778]),\n",
       " 'std_test_score': array([0.11957348, 0.15247835, 0.14179126, 0.11916212, 0.15609864,\n",
       "        0.16576334, 0.09926211, 0.10934297, 0.12120224, 0.09870889,\n",
       "        0.10914247, 0.1201875 ]),\n",
       " 'rank_test_score': array([ 6, 11,  9,  8, 12, 10,  2,  3,  5,  1,  4,  7], dtype=int32)}"
      ]
     },
     "execution_count": 6,
     "metadata": {},
     "output_type": "execute_result"
    }
   ],
   "source": [
    "grid_search_results[\"NLL\"][\"LogNormal\"].cv_results_"
   ]
  },
  {
   "cell_type": "markdown",
   "metadata": {},
   "source": [
    "# Final Model"
   ]
  },
  {
   "cell_type": "code",
   "execution_count": 7,
   "metadata": {},
   "outputs": [
    {
     "name": "stdout",
     "output_type": "stream",
     "text": [
      "[iter 0] loss=11.0337 val_loss=0.0000 scale=1.0000 norm=0.6803\n",
      "[iter 100] loss=10.7818 val_loss=0.0000 scale=2.0000 norm=1.1235\n",
      "[iter 200] loss=10.6528 val_loss=0.0000 scale=1.0000 norm=0.5573\n",
      "[iter 300] loss=10.6165 val_loss=0.0000 scale=1.0000 norm=0.5677\n",
      "[iter 400] loss=10.5695 val_loss=0.0000 scale=1.0000 norm=0.5567\n",
      "[iter 500] loss=10.5672 val_loss=0.0000 scale=1.0000 norm=0.5775\n",
      "[iter 600] loss=10.5389 val_loss=0.0000 scale=1.0000 norm=0.5633\n",
      "[iter 700] loss=10.5487 val_loss=0.0000 scale=1.0000 norm=0.5798\n",
      "[iter 800] loss=10.5353 val_loss=0.0000 scale=1.0000 norm=0.5743\n",
      "[iter 900] loss=10.4834 val_loss=0.0000 scale=1.0000 norm=0.5579\n"
     ]
    },
    {
     "data": {
      "text/plain": [
       "NGBRegressor(Dist=<class 'ngboost.distns.distn.Distn.uncensor.<locals>.DistWithUncensoredScore'>,\n",
       "             minibatch_frac=0.5, n_estimators=1000,\n",
       "             random_state=RandomState(MT19937) at 0x7FCB3D112D10)"
      ]
     },
     "execution_count": 7,
     "metadata": {},
     "output_type": "execute_result"
    }
   ],
   "source": [
    "model = NGBRegressor(LogNormal, n_estimators=1000, learning_rate=0.01, minibatch_frac=0.5)\n",
    "model.fit(X, y)"
   ]
  },
  {
   "cell_type": "code",
   "execution_count": 8,
   "metadata": {
    "scrolled": false
   },
   "outputs": [],
   "source": [
    "file_path = Path(\"../modelling/model.p\")\n",
    "\n",
    "with file_path.open(\"wb\") as f:\n",
    "    pickle.dump(model, f)"
   ]
  }
 ],
 "metadata": {
  "kernelspec": {
   "display_name": "Python [conda env:personal] *",
   "language": "python",
   "name": "conda-env-personal-py"
  },
  "language_info": {
   "codemirror_mode": {
    "name": "ipython",
    "version": 3
   },
   "file_extension": ".py",
   "mimetype": "text/x-python",
   "name": "python",
   "nbconvert_exporter": "python",
   "pygments_lexer": "ipython3",
   "version": "3.7.6"
  }
 },
 "nbformat": 4,
 "nbformat_minor": 2
}

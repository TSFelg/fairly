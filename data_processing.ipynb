{
 "cells": [
  {
   "cell_type": "code",
   "execution_count": 1,
   "id": "touched-portland",
   "metadata": {},
   "outputs": [],
   "source": [
    "import pandas as pd\n",
    "import numpy as np\n",
    "from sklearn.preprocessing import OrdinalEncoder\n",
    "from sklearn.preprocessing import OneHotEncoder\n",
    "import pickle\n",
    "from pathlib import Path"
   ]
  },
  {
   "cell_type": "code",
   "execution_count": 2,
   "id": "rubber-territory",
   "metadata": {},
   "outputs": [],
   "source": [
    "df = pd.read_parquet(\"data/cleaned.parquet\")"
   ]
  },
  {
   "cell_type": "markdown",
   "id": "communist-winning",
   "metadata": {},
   "source": [
    "# Categorical Features"
   ]
  },
  {
   "cell_type": "code",
   "execution_count": 3,
   "id": "relevant-operation",
   "metadata": {},
   "outputs": [],
   "source": [
    "english_levels = [\"Elementary\", \"Limited working proficiency\", \"Professional working proficiency\", \n",
    "                  \"Full professional proficiency\", \"Native or bilingual proficiency\"]\n",
    "\n",
    "working_experience_levels = [\"No working experience\", \"Less than 1 year\", \"Between 1 - 3 years\", \n",
    "                             \"Between 3 - 6 years\", \"Between 6 - 9 years\", \"More than 9 years\"]\n",
    "\n",
    "employer_size_levels = [\"Less than 10 employees\", \"10 - 19 employees\", \"20 - 99 employees\", \"100 - 499 employees\", \n",
    "                        \"500 - 999 employees\", \"1000 - 4.999 employees\", \"More than 5.000 employees\"]"
   ]
  },
  {
   "cell_type": "code",
   "execution_count": 4,
   "id": "express-ballet",
   "metadata": {},
   "outputs": [],
   "source": [
    "ordinal_features = [\"English_Level\", \"Working_Experience\", \"Employer_Size\"]\n",
    "ordinal_encoder = OrdinalEncoder(categories = [english_levels, working_experience_levels, employer_size_levels])\n",
    "df[ordinal_features] = ordinal_encoder.fit_transform(df[ordinal_features])"
   ]
  },
  {
   "cell_type": "code",
   "execution_count": 5,
   "id": "medieval-antenna",
   "metadata": {},
   "outputs": [],
   "source": [
    "file_path = Path(\"data/ordinal_encoder.p\")\n",
    "\n",
    "with file_path.open(\"wb\") as f:\n",
    "    pickle.dump(ordinal_encoder, f)"
   ]
  },
  {
   "cell_type": "markdown",
   "id": "educational-asthma",
   "metadata": {},
   "source": [
    "# One-hot Encoding"
   ]
  },
  {
   "cell_type": "code",
   "execution_count": 6,
   "id": "orange-skiing",
   "metadata": {},
   "outputs": [],
   "source": [
    "onehot_features = [\"Employment_Status\",\n",
    "                    \"Residence_District_Aggregated\",\n",
    "                    \"Work_Company_Country\",\n",
    "                    \"Job_Role_Original\",         \n",
    "                    \"Employer_Industry\",            \n",
    "                    \"Employer_Org_Type\",\n",
    "                    \"Education_Level\"]\n",
    "\n",
    "\n",
    "onehot_encoder = OneHotEncoder(sparse=False)\n",
    "transformed = onehot_encoder.fit_transform(df[onehot_features])\n",
    "df_transformed = pd.DataFrame(transformed, columns=onehot_encoder.get_feature_names())"
   ]
  },
  {
   "cell_type": "code",
   "execution_count": 7,
   "id": "precious-grace",
   "metadata": {},
   "outputs": [],
   "source": [
    "df = df.drop(columns = onehot_features)\n",
    "df = pd.concat([df,df_transformed], axis=1)"
   ]
  },
  {
   "cell_type": "code",
   "execution_count": 8,
   "id": "sporting-penalty",
   "metadata": {},
   "outputs": [],
   "source": [
    "file_path = Path(\"data/onehot_encoder.p\")\n",
    "\n",
    "with file_path.open(\"wb\") as f:\n",
    "    pickle.dump(onehot_encoder, f)"
   ]
  },
  {
   "cell_type": "markdown",
   "id": "superb-baker",
   "metadata": {},
   "source": [
    "# Export"
   ]
  },
  {
   "cell_type": "code",
   "execution_count": 9,
   "id": "auburn-cartoon",
   "metadata": {},
   "outputs": [],
   "source": [
    "df.to_parquet(\"data/processed.parquet\")"
   ]
  }
 ],
 "metadata": {
  "kernelspec": {
   "display_name": "Python [conda env:personal] *",
   "language": "python",
   "name": "conda-env-personal-py"
  },
  "language_info": {
   "codemirror_mode": {
    "name": "ipython",
    "version": 3
   },
   "file_extension": ".py",
   "mimetype": "text/x-python",
   "name": "python",
   "nbconvert_exporter": "python",
   "pygments_lexer": "ipython3",
   "version": "3.7.6"
  }
 },
 "nbformat": 4,
 "nbformat_minor": 5
}
